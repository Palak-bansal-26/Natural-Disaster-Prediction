{
  "nbformat": 4,
  "nbformat_minor": 0,
  "metadata": {
    "colab": {
      "provenance": [],
      "authorship_tag": "ABX9TyP+z+DTBzljbRwiJYr1FJyS",
      "include_colab_link": true
    },
    "kernelspec": {
      "name": "python3",
      "display_name": "Python 3"
    },
    "language_info": {
      "name": "python"
    }
  },
  "cells": [
    {
      "cell_type": "markdown",
      "metadata": {
        "id": "view-in-github",
        "colab_type": "text"
      },
      "source": [
        "<a href=\"https://colab.research.google.com/github/Palak-bansal-26/Natural-Disaster-Prediction/blob/main/AvalanchePrediction.ipynb\" target=\"_parent\"><img src=\"https://colab.research.google.com/assets/colab-badge.svg\" alt=\"Open In Colab\"/></a>"
      ]
    },
    {
      "cell_type": "code",
      "execution_count": 32,
      "metadata": {
        "id": "LrYeEr5qW6CT",
        "colab": {
          "base_uri": "https://localhost:8080/"
        },
        "outputId": "d85ab6af-2de0-4ae3-aee3-d93f74733fd9"
      },
      "outputs": [
        {
          "output_type": "stream",
          "name": "stdout",
          "text": [
            "<class 'pandas.core.frame.DataFrame'>\n",
            "RangeIndex: 4216 entries, 0 to 4215\n",
            "Data columns (total 5 columns):\n",
            " #   Column                      Non-Null Count  Dtype  \n",
            "---  ------                      --------------  -----  \n",
            " 0   Date/Time (PST)             4216 non-null   object \n",
            " 1   Temperature (deg F)         4216 non-null   float64\n",
            " 2   Relative Humidity (%)       4216 non-null   float64\n",
            " 3   Total Snow Depth (\")        4216 non-null   float64\n",
            " 4   Intermittent/Shot Snow (\")  4216 non-null   float64\n",
            "dtypes: float64(4), object(1)\n",
            "memory usage: 164.8+ KB\n"
          ]
        },
        {
          "output_type": "execute_result",
          "data": {
            "text/plain": [
              "(    Date/Time (PST)  Temperature (deg F)  Relative Humidity (%)  \\\n",
              " 0  25-06-2019 15:00                47.33                  89.90   \n",
              " 1  25-06-2019 14:00                53.80                  69.82   \n",
              " 2  25-06-2019 13:00                55.02                  65.32   \n",
              " 3  25-06-2019 12:00                56.62                  54.77   \n",
              " 4  25-06-2019 11:00                54.93                  58.87   \n",
              " \n",
              "    Total Snow Depth (\")  Intermittent/Shot Snow (\")  \n",
              " 0                 16.46                     -7999.0  \n",
              " 1                 10.02                     -7999.0  \n",
              " 2                 12.31                     -7999.0  \n",
              " 3                 11.77                     -7999.0  \n",
              " 4                 12.12                     -7999.0  ,\n",
              " None)"
            ]
          },
          "metadata": {},
          "execution_count": 32
        }
      ],
      "source": [
        "import pandas as pd\n",
        "import numpy as np\n",
        "from sklearn.model_selection import train_test_split\n",
        "from sklearn.linear_model import LogisticRegression\n",
        "from sklearn.metrics import roc_auc_score\n",
        "from sklearn.preprocessing import StandardScaler\n",
        "\n",
        "# Load the dataset\n",
        "file_path = '/mnt/StevensPass-GraceLakes_4790_feet_2019.csv'\n",
        "data = pd.read_csv(file_path)\n",
        "\n",
        "data.head(), data.info()\n"
      ]
    },
    {
      "cell_type": "code",
      "source": [
        "import numpy as np\n",
        "\n",
        "# Replace the placeholder value in 'Intermittent/Shot Snow (\")' with NaN\n",
        "data['Intermittent/Shot Snow (\")'] = np.where(data['Intermittent/Shot Snow (\")'] == -7999.0, np.nan, data['Intermittent/Shot Snow (\")'])\n",
        "\n",
        "# Convert 'Date/Time (PST)' to datetime format\n",
        "data['Date/Time (PST)'] = pd.to_datetime(data['Date/Time (PST)'], format='%d-%m-%Y %H:%M')\n",
        "\n",
        "# Summary of missing values\n",
        "missing_data_summary = data.isnull().sum()\n",
        "\n",
        "# Display the cleaned data and the summary of missing values\n",
        "data.head(), missing_data_summary"
      ],
      "metadata": {
        "id": "BeZnAVhvg1iM",
        "outputId": "3df31dcf-a6e3-45b7-a460-8b898f429ae6",
        "colab": {
          "base_uri": "https://localhost:8080/"
        }
      },
      "execution_count": 33,
      "outputs": [
        {
          "output_type": "execute_result",
          "data": {
            "text/plain": [
              "(      Date/Time (PST)  Temperature (deg F)  Relative Humidity (%)  \\\n",
              " 0 2019-06-25 15:00:00                47.33                  89.90   \n",
              " 1 2019-06-25 14:00:00                53.80                  69.82   \n",
              " 2 2019-06-25 13:00:00                55.02                  65.32   \n",
              " 3 2019-06-25 12:00:00                56.62                  54.77   \n",
              " 4 2019-06-25 11:00:00                54.93                  58.87   \n",
              " \n",
              "    Total Snow Depth (\")  Intermittent/Shot Snow (\")  \n",
              " 0                 16.46                         NaN  \n",
              " 1                 10.02                         NaN  \n",
              " 2                 12.31                         NaN  \n",
              " 3                 11.77                         NaN  \n",
              " 4                 12.12                         NaN  ,\n",
              " Date/Time (PST)                  0\n",
              " Temperature (deg F)              0\n",
              " Relative Humidity (%)            0\n",
              " Total Snow Depth (\")             0\n",
              " Intermittent/Shot Snow (\")    1133\n",
              " dtype: int64)"
            ]
          },
          "metadata": {},
          "execution_count": 33
        }
      ]
    },
    {
      "cell_type": "code",
      "source": [
        "import seaborn as sns\n",
        "import matplotlib.pyplot as plt\n",
        "\n",
        "# Calculate the correlation matrix\n",
        "correlation_matrix = features.corr()\n",
        "\n",
        "# Set up the matplotlib figure\n",
        "plt.figure(figsize=(10, 8))\n",
        "\n",
        "# Draw the heatmap\n",
        "sns.heatmap(correlation_matrix, annot=True, cmap='coolwarm', fmt='.2f', linewidths=0.5)\n",
        "\n",
        "# Add title and labels\n",
        "plt.title('Correlation Heatmap of Features')\n",
        "plt.show()"
      ],
      "metadata": {
        "id": "RCnED4yGhD7N",
        "outputId": "7cb8d483-585b-4e9a-c449-113eae16bcf0",
        "colab": {
          "base_uri": "https://localhost:8080/",
          "height": 699
        }
      },
      "execution_count": 34,
      "outputs": [
        {
          "output_type": "display_data",
          "data": {
            "text/plain": [
              "<Figure size 1000x800 with 2 Axes>"
            ],
            "image/png": "[encoded data removed]"
          },
          "metadata": {}
        }
      ]
    },
    {
      "cell_type": "code",
      "source": [
        "\n",
        "# Define thresholds for temperature and humidity to indicate avalanche risk\n",
        "def temp_risk(temp):\n",
        "    if temp < 15:\n",
        "        return 3  # High risk\n",
        "    elif temp <= 32:\n",
        "        return 2  # Moderate risk\n",
        "    else:\n",
        "        return 1  # Low risk\n",
        "\n",
        "def humidity_risk(humidity):\n",
        "    if humidity > 80:\n",
        "        return 3  # High risk\n",
        "    elif humidity >= 50:\n",
        "        return 2  # Moderate risk\n",
        "    else:\n",
        "        return 1  # Low risk\n",
        "\n",
        "# Apply the risk functions to the data\n",
        "data['Temperature Risk'] = data['Temperature (deg F)'].apply(temp_risk)\n",
        "data['Humidity Risk'] = data['Relative Humidity (%)'].apply(humidity_risk)\n",
        "\n",
        "# Define a threshold for snow depth to indicate high avalanche risk\n",
        "snow_depth_threshold = 20  # in inches\n",
        "\n",
        "# Create a binary target variable for avalanche risk\n",
        "data['Avalanche Risk'] = np.where(data['Total Snow Depth (\")'] > snow_depth_threshold, 1, 0)\n",
        "\n",
        "# Select features and target variable\n",
        "features = data[['Temperature (deg F)', 'Relative Humidity (%)', 'Total Snow Depth (\")']]\n",
        "target = data['Avalanche Risk']\n",
        "\n",
        "# Standardize the features to ensure equal scaling\n",
        "scaler = StandardScaler()\n",
        "features_scaled = scaler.fit_transform(features)\n",
        "\n",
        "# Split the data into training and testing sets\n",
        "X_train, X_test, y_train, y_test = train_test_split(features_scaled, target, test_size=0.3, random_state=42)\n",
        "\n",
        "# Train a Logistic Regression model\n",
        "logmodel = LogisticRegression(random_state=42)\n",
        "logmodel.fit(X_train, y_train)\n",
        "\n",
        "# Make probability predictions on the test set\n",
        "y_pred_prob = logmodel.predict_proba(X_test)[:, 1]  # Probability of the positive class (avalanche risk)\n"
      ],
      "metadata": {
        "id": "H5SRjz70geb-"
      },
      "execution_count": 36,
      "outputs": []
    },
    {
      "cell_type": "code",
      "source": [
        "# Training using Gradient Boosting\n",
        "\n",
        "from sklearn.ensemble import GradientBoostingClassifier\n",
        "\n",
        "# Train a Gradient Boosting model\n",
        "gbmodel = GradientBoostingClassifier(random_state=42)\n",
        "gbmodel.fit(X_train, y_train)\n",
        "\n",
        "# Make probability predictions on the test set\n",
        "y_pred_prob = gbmodel.predict_proba(X_test)[:, 1]  # Probability of the positive class (avalanche risk)\n",
        "\n",
        "# Evaluate the model using ROC AUC Score\n",
        "roc_auc = roc_auc_score(y_test, y_pred_prob)\n",
        "print(f'ROC AUC Score: {roc_auc:.2f}')\n"
      ],
      "metadata": {
        "colab": {
          "base_uri": "https://localhost:8080/"
        },
        "id": "g2LhsO7J5USk",
        "outputId": "920a7bc4-f301-4a6a-ebc6-768b7f54a2eb"
      },
      "execution_count": 37,
      "outputs": [
        {
          "output_type": "stream",
          "name": "stdout",
          "text": [
            "ROC AUC Score: 1.00\n"
          ]
        }
      ]
    },
    {
      "cell_type": "code",
      "source": [
        "import seaborn as sns\n",
        "import matplotlib.pyplot as plt\n",
        "correlation_matrix = features.corr()\n",
        "\n",
        "# Display the correlation matrix\n",
        "print(correlation_matrix)\n"
      ],
      "metadata": {
        "colab": {
          "base_uri": "https://localhost:8080/"
        },
        "id": "sfDeYX0u5ftx",
        "outputId": "c0d4cd91-7a9c-480a-afbc-1db3411f77e1"
      },
      "execution_count": 38,
      "outputs": [
        {
          "output_type": "stream",
          "name": "stdout",
          "text": [
            "                       Temperature (deg F)  Relative Humidity (%)  \\\n",
            "Temperature (deg F)               1.000000              -0.438784   \n",
            "Relative Humidity (%)            -0.438784               1.000000   \n",
            "Total Snow Depth (\")             -0.593025              -0.020216   \n",
            "\n",
            "                       Total Snow Depth (\")  \n",
            "Temperature (deg F)               -0.593025  \n",
            "Relative Humidity (%)             -0.020216  \n",
            "Total Snow Depth (\")               1.000000  \n"
          ]
        }
      ]
    },
    {
      "cell_type": "code",
      "source": [
        "# Random Forest\n",
        "from sklearn.ensemble import RandomForestClassifier\n",
        "# Display the first few rows and summary information about the dataset\n",
        "data.head(), data.info()"
      ],
      "metadata": {
        "colab": {
          "base_uri": "https://localhost:8080/"
        },
        "id": "p25g6rwm5y36",
        "outputId": "ae449fb1-6f54-4766-a2e8-afa5c9e097fc"
      },
      "execution_count": 39,
      "outputs": [
        {
          "output_type": "stream",
          "name": "stdout",
          "text": [
            "<class 'pandas.core.frame.DataFrame'>\n",
            "RangeIndex: 4216 entries, 0 to 4215\n",
            "Data columns (total 8 columns):\n",
            " #   Column                      Non-Null Count  Dtype         \n",
            "---  ------                      --------------  -----         \n",
            " 0   Date/Time (PST)             4216 non-null   datetime64[ns]\n",
            " 1   Temperature (deg F)         4216 non-null   float64       \n",
            " 2   Relative Humidity (%)       4216 non-null   float64       \n",
            " 3   Total Snow Depth (\")        4216 non-null   float64       \n",
            " 4   Intermittent/Shot Snow (\")  3083 non-null   float64       \n",
            " 5   Temperature Risk            4216 non-null   int64         \n",
            " 6   Humidity Risk               4216 non-null   int64         \n",
            " 7   Avalanche Risk              4216 non-null   int64         \n",
            "dtypes: datetime64[ns](1), float64(4), int64(3)\n",
            "memory usage: 263.6 KB\n"
          ]
        },
        {
          "output_type": "execute_result",
          "data": {
            "text/plain": [
              "(      Date/Time (PST)  Temperature (deg F)  Relative Humidity (%)  \\\n",
              " 0 2019-06-25 15:00:00                47.33                  89.90   \n",
              " 1 2019-06-25 14:00:00                53.80                  69.82   \n",
              " 2 2019-06-25 13:00:00                55.02                  65.32   \n",
              " 3 2019-06-25 12:00:00                56.62                  54.77   \n",
              " 4 2019-06-25 11:00:00                54.93                  58.87   \n",
              " \n",
              "    Total Snow Depth (\")  Intermittent/Shot Snow (\")  Temperature Risk  \\\n",
              " 0                 16.46                         NaN                 1   \n",
              " 1                 10.02                         NaN                 1   \n",
              " 2                 12.31                         NaN                 1   \n",
              " 3                 11.77                         NaN                 1   \n",
              " 4                 12.12                         NaN                 1   \n",
              " \n",
              "    Humidity Risk  Avalanche Risk  \n",
              " 0              3               0  \n",
              " 1              2               0  \n",
              " 2              2               0  \n",
              " 3              2               0  \n",
              " 4              2               0  ,\n",
              " None)"
            ]
          },
          "metadata": {},
          "execution_count": 39
        }
      ]
    },
    {
      "cell_type": "code",
      "source": [
        "\n",
        "# Summary of missing values\n",
        "missing_data_summary = data.isnull().sum()\n",
        "\n",
        "# Display the cleaned data and the summary of missing values\n",
        "data.head(), missing_data_summary"
      ],
      "metadata": {
        "colab": {
          "base_uri": "https://localhost:8080/"
        },
        "id": "8Mpqys5o57_g",
        "outputId": "9703494c-a2b8-464e-b7ea-d52b32d7b65a"
      },
      "execution_count": 12,
      "outputs": [
        {
          "output_type": "execute_result",
          "data": {
            "text/plain": [
              "(      Date/Time (PST)  Temperature (deg F)  Relative Humidity (%)  \\\n",
              " 0 2019-06-25 15:00:00                47.33                  89.90   \n",
              " 1 2019-06-25 14:00:00                53.80                  69.82   \n",
              " 2 2019-06-25 13:00:00                55.02                  65.32   \n",
              " 3 2019-06-25 12:00:00                56.62                  54.77   \n",
              " 4 2019-06-25 11:00:00                54.93                  58.87   \n",
              " \n",
              "    Total Snow Depth (\")  Intermittent/Shot Snow (\")  Temperature Risk  \\\n",
              " 0                 16.46                       17.74                 1   \n",
              " 1                 10.02                       17.74                 1   \n",
              " 2                 12.31                       17.74                 1   \n",
              " 3                 11.77                       17.74                 1   \n",
              " 4                 12.12                       17.74                 1   \n",
              " \n",
              "    Humidity Risk  Avalanche Risk  Composite Risk  \n",
              " 0              3               0               5  \n",
              " 1              2               0               4  \n",
              " 2              2               0               4  \n",
              " 3              2               0               4  \n",
              " 4              2               0               4  ,\n",
              " Date/Time (PST)               0\n",
              " Temperature (deg F)           0\n",
              " Relative Humidity (%)         0\n",
              " Total Snow Depth (\")          0\n",
              " Intermittent/Shot Snow (\")    0\n",
              " Temperature Risk              0\n",
              " Humidity Risk                 0\n",
              " Avalanche Risk                0\n",
              " Composite Risk                0\n",
              " dtype: int64)"
            ]
          },
          "metadata": {},
          "execution_count": 12
        }
      ]
    },
    {
      "cell_type": "code",
      "source": [
        "# Train a Random Forest model\n",
        "rfmodel = RandomForestClassifier(random_state=42, n_estimators=100)\n",
        "rfmodel.fit(X_train, y_train)\n",
        "\n",
        "# Make probability predictions on the test set\n",
        "y_pred_prob = rfmodel.predict_proba(X_test)[:, 1]  # Probability of the positive class (avalanche risk)\n",
        "\n",
        "# Evaluate the model using ROC AUC Score\n",
        "roc_auc = roc_auc_score(y_test, y_pred_prob)\n",
        "print(f'ROC AUC Score: {roc_auc:.2f}')\n"
      ],
      "metadata": {
        "colab": {
          "base_uri": "https://localhost:8080/"
        },
        "id": "pEENuFXg6YWW",
        "outputId": "6eefe17a-d821-439e-cbe1-3ca20daf200a"
      },
      "execution_count": 15,
      "outputs": [
        {
          "output_type": "stream",
          "name": "stdout",
          "text": [
            "ROC AUC Score: 1.00\n"
          ]
        }
      ]
    },
    {
      "cell_type": "code",
      "source": [
        "# SVM\n",
        "\n",
        "from sklearn.preprocessing import StandardScaler\n",
        "from sklearn.svm import SVC\n",
        "from sklearn.metrics import classification_report\n",
        "\n",
        "\n",
        "# Create the proxy target variable for landslide occurrence\n",
        "data['Avalanche Risk'] = ((data['Temperature (deg F)'] > 32) &\n",
        "                           (data['Relative Humidity (%)'] > 80) &\n",
        "                           (data['Total Snow Depth (\")'] > 20)).astype(int)\n",
        "\n",
        "# Select the first three columns as features\n",
        "X = data[['Temperature (deg F)', 'Relative Humidity (%)', 'Total Snow Depth (\")']]\n",
        "y = data['Avalanche Risk']\n",
        "\n",
        "# Split the data into training and testing sets\n",
        "X_train, X_test, y_train, y_test = train_test_split(X, y, test_size=0.3, random_state=42)\n",
        "\n",
        "# Standardize the features\n",
        "scaler = StandardScaler()\n",
        "X_train_scaled = scaler.fit_transform(X_train)\n",
        "X_test_scaled = scaler.transform(X_test)\n",
        "\n",
        "# Train an SVM model\n",
        "svm_model = SVC(probability=True, random_state=42)\n",
        "svm_model.fit(X_train_scaled, y_train)\n",
        "\n",
        "# Predict probabilities on the test set\n",
        "y_pred_prob = svm_model.predict_proba(X_test_scaled)[:, 1]\n",
        "\n",
        "# Get classification report\n",
        "classification_report_dict = classification_report(y_test, svm_model.predict(X_test_scaled), output_dict=True)\n",
        "\n",
        "# Print the classification report\n",
        "print(classification_report(y_test, svm_model.predict(X_test_scaled)))\n"
      ],
      "metadata": {
        "colab": {
          "base_uri": "https://localhost:8080/"
        },
        "id": "8P_e93AS6tvy",
        "outputId": "5ed251d6-12b7-451a-9c2d-c1c9267afffd"
      },
      "execution_count": 20,
      "outputs": [
        {
          "output_type": "stream",
          "name": "stdout",
          "text": [
            "              precision    recall  f1-score   support\n",
            "\n",
            "           0       0.99      0.99      0.99      1008\n",
            "           1       0.95      0.97      0.96       257\n",
            "\n",
            "    accuracy                           0.98      1265\n",
            "   macro avg       0.97      0.98      0.97      1265\n",
            "weighted avg       0.98      0.98      0.98      1265\n",
            "\n"
          ]
        }
      ]
    },
    {
      "cell_type": "code",
      "source": [
        "\n",
        "from sklearn.metrics import (\n",
        "    accuracy_score, precision_score, recall_score, f1_score,\n",
        "    roc_auc_score, RocCurveDisplay, ConfusionMatrixDisplay,\n",
        "    PrecisionRecallDisplay\n",
        ")\n",
        "import matplotlib.pyplot as plt\n",
        "import seaborn as sns\n",
        "\n",
        "\n",
        "# Features and target\n",
        "X = data[['Temperature (deg F)', 'Relative Humidity (%)', 'Total Snow Depth (\")']]\n",
        "y = data['Avalanche Risk']\n",
        "\n",
        "# Split the data into training and testing sets\n",
        "X_train, X_test, y_train, y_test = train_test_split(X, y, test_size=0.3, random_state=42)\n",
        "\n",
        "# Initialize the models\n",
        "models = {\n",
        "    'Random Forest': RandomForestClassifier(random_state=42),\n",
        "    'SVM': SVC(probability=True, random_state=42),\n",
        "    'Gradient Boosting': GradientBoostingClassifier(random_state=42),\n",
        "    'Logistic Regression': LogisticRegression(random_state=42)\n",
        "}\n",
        "\n",
        "# Train the models and collect their performance\n",
        "results = {}\n",
        "confusion_matrices = {}\n",
        "\n",
        "for name, model in models.items():\n",
        "    model.fit(X_train, y_train)\n",
        "    y_pred = model.predict(X_test)\n",
        "    y_prob = model.predict_proba(X_test)[:, 1]\n",
        "\n",
        "    results[name] = {\n",
        "        'Accuracy': accuracy_score(y_test, y_pred),\n",
        "        'Precision': precision_score(y_test, y_pred),\n",
        "        'Recall': recall_score(y_test, y_pred),\n",
        "        'F1 Score': f1_score(y_test, y_pred),\n",
        "        'ROC AUC': roc_auc_score(y_test, y_prob)\n",
        "    }\n",
        "\n",
        "    confusion_matrices[name] = ConfusionMatrixDisplay.from_estimator(model, X_test, y_test, display_labels=['Low', 'High'])\n",
        "\n",
        "# Display the comparative performance results\n",
        "results_df = pd.DataFrame(results).T\n",
        "print(results_df)\n",
        "\n",
        "# Plot the ROC curves\n",
        "plt.figure(figsize=(10, 8))\n",
        "for name, model in models.items():\n",
        "    RocCurveDisplay.from_estimator(model, X_test, y_test, name=name, ax=plt.gca())\n",
        "\n",
        "plt.title('ROC Curves for Different Models')\n",
        "plt.show()\n",
        "\n",
        "# Plot the Precision-Recall curves\n",
        "plt.figure(figsize=(10, 8))\n",
        "for name, model in models.items():\n",
        "    PrecisionRecallDisplay.from_estimator(model, X_test, y_test, name=name, ax=plt.gca())\n",
        "\n",
        "plt.title('Precision-Recall Curves for Different Models')\n",
        "plt.show()\n",
        "\n",
        "# Plot the confusion matrices\n",
        "fig, axes = plt.subplots(2, 2, figsize=(12, 10))\n",
        "axes = axes.flatten()\n",
        "for ax, (name, cm_display) in zip(axes, confusion_matrices.items()):\n",
        "    cm_display.plot(ax=ax)\n",
        "    ax.title.set_text(f'Confusion Matrix: {name}')\n",
        "plt.tight_layout()\n",
        "plt.show()\n",
        "\n",
        "# Bar chart for model performance metrics\n",
        "metrics = ['Accuracy', 'Precision', 'Recall', 'F1 Score', 'ROC AUC']\n",
        "results_df[metrics].plot(kind='bar', figsize=(10, 6))\n",
        "plt.title('Model Performance Comparison')\n",
        "plt.ylabel('Score')\n",
        "plt.xticks(rotation=45)\n",
        "plt.show()\n"
      ],
      "metadata": {
        "colab": {
          "base_uri": "https://localhost:8080/",
          "height": 547
        },
        "id": "Y8P2zQ2J_sx-",
        "outputId": "d64bbe0d-0e2d-48aa-e1e3-4b917e68d118"
      },
      "execution_count": 26,
      "outputs": [
        {
          "output_type": "error",
          "ename": "KeyError",
          "evalue": "'Avalanche Risk'",
          "traceback": [
            "\u001b[0;31m---------------------------------------------------------------------------\u001b[0m",
            "\u001b[0;31mKeyError\u001b[0m                                  Traceback (most recent call last)",
            "\u001b[0;32m/usr/local/lib/python3.10/dist-packages/pandas/core/indexes/base.py\u001b[0m in \u001b[0;36mget_loc\u001b[0;34m(self, key)\u001b[0m\n\u001b[1;32m   3790\u001b[0m         \u001b[0;32mtry\u001b[0m\u001b[0;34m:\u001b[0m\u001b[0;34m\u001b[0m\u001b[0;34m\u001b[0m\u001b[0m\n\u001b[0;32m-> 3791\u001b[0;31m             \u001b[0;32mreturn\u001b[0m \u001b[0mself\u001b[0m\u001b[0;34m.\u001b[0m\u001b[0m_engine\u001b[0m\u001b[0;34m.\u001b[0m\u001b[0mget_loc\u001b[0m\u001b[0;34m(\u001b[0m\u001b[0mcasted_key\u001b[0m\u001b[0;34m)\u001b[0m\u001b[0;34m\u001b[0m\u001b[0;34m\u001b[0m\u001b[0m\n\u001b[0m\u001b[1;32m   3792\u001b[0m         \u001b[0;32mexcept\u001b[0m \u001b[0mKeyError\u001b[0m \u001b[0;32mas\u001b[0m \u001b[0merr\u001b[0m\u001b[0;34m:\u001b[0m\u001b[0;34m\u001b[0m\u001b[0;34m\u001b[0m\u001b[0m\n",
            "\u001b[0;32mindex.pyx\u001b[0m in \u001b[0;36mpandas._libs.index.IndexEngine.get_loc\u001b[0;34m()\u001b[0m\n",
            "\u001b[0;32mindex.pyx\u001b[0m in \u001b[0;36mpandas._libs.index.IndexEngine.get_loc\u001b[0;34m()\u001b[0m\n",
            "\u001b[0;32mpandas/_libs/hashtable_class_helper.pxi\u001b[0m in \u001b[0;36mpandas._libs.hashtable.PyObjectHashTable.get_item\u001b[0;34m()\u001b[0m\n",
            "\u001b[0;32mpandas/_libs/hashtable_class_helper.pxi\u001b[0m in \u001b[0;36mpandas._libs.hashtable.PyObjectHashTable.get_item\u001b[0;34m()\u001b[0m\n",
            "\u001b[0;31mKeyError\u001b[0m: 'Avalanche Risk'",
            "\nThe above exception was the direct cause of the following exception:\n",
            "\u001b[0;31mKeyError\u001b[0m                                  Traceback (most recent call last)",
            "\u001b[0;32m<ipython-input-26-7e9536e8380e>\u001b[0m in \u001b[0;36m<cell line: 12>\u001b[0;34m()\u001b[0m\n\u001b[1;32m     10\u001b[0m \u001b[0;31m# Features and target\u001b[0m\u001b[0;34m\u001b[0m\u001b[0;34m\u001b[0m\u001b[0m\n\u001b[1;32m     11\u001b[0m \u001b[0mX\u001b[0m \u001b[0;34m=\u001b[0m \u001b[0mdata\u001b[0m\u001b[0;34m[\u001b[0m\u001b[0;34m[\u001b[0m\u001b[0;34m'Temperature (deg F)'\u001b[0m\u001b[0;34m,\u001b[0m \u001b[0;34m'Relative Humidity (%)'\u001b[0m\u001b[0;34m,\u001b[0m \u001b[0;34m'Total Snow Depth (\")'\u001b[0m\u001b[0;34m]\u001b[0m\u001b[0;34m]\u001b[0m\u001b[0;34m\u001b[0m\u001b[0;34m\u001b[0m\u001b[0m\n\u001b[0;32m---> 12\u001b[0;31m \u001b[0my\u001b[0m \u001b[0;34m=\u001b[0m \u001b[0mdata\u001b[0m\u001b[0;34m[\u001b[0m\u001b[0;34m'Avalanche Risk'\u001b[0m\u001b[0;34m]\u001b[0m\u001b[0;34m\u001b[0m\u001b[0;34m\u001b[0m\u001b[0m\n\u001b[0m\u001b[1;32m     13\u001b[0m \u001b[0;34m\u001b[0m\u001b[0m\n\u001b[1;32m     14\u001b[0m \u001b[0;31m# Split the data into training and testing sets\u001b[0m\u001b[0;34m\u001b[0m\u001b[0;34m\u001b[0m\u001b[0m\n",
            "\u001b[0;32m/usr/local/lib/python3.10/dist-packages/pandas/core/frame.py\u001b[0m in \u001b[0;36m__getitem__\u001b[0;34m(self, key)\u001b[0m\n\u001b[1;32m   3891\u001b[0m             \u001b[0;32mif\u001b[0m \u001b[0mself\u001b[0m\u001b[0;34m.\u001b[0m\u001b[0mcolumns\u001b[0m\u001b[0;34m.\u001b[0m\u001b[0mnlevels\u001b[0m \u001b[0;34m>\u001b[0m \u001b[0;36m1\u001b[0m\u001b[0;34m:\u001b[0m\u001b[0;34m\u001b[0m\u001b[0;34m\u001b[0m\u001b[0m\n\u001b[1;32m   3892\u001b[0m                 \u001b[0;32mreturn\u001b[0m \u001b[0mself\u001b[0m\u001b[0;34m.\u001b[0m\u001b[0m_getitem_multilevel\u001b[0m\u001b[0;34m(\u001b[0m\u001b[0mkey\u001b[0m\u001b[0;34m)\u001b[0m\u001b[0;34m\u001b[0m\u001b[0;34m\u001b[0m\u001b[0m\n\u001b[0;32m-> 3893\u001b[0;31m             \u001b[0mindexer\u001b[0m \u001b[0;34m=\u001b[0m \u001b[0mself\u001b[0m\u001b[0;34m.\u001b[0m\u001b[0mcolumns\u001b[0m\u001b[0;34m.\u001b[0m\u001b[0mget_loc\u001b[0m\u001b[0;34m(\u001b[0m\u001b[0mkey\u001b[0m\u001b[0;34m)\u001b[0m\u001b[0;34m\u001b[0m\u001b[0;34m\u001b[0m\u001b[0m\n\u001b[0m\u001b[1;32m   3894\u001b[0m             \u001b[0;32mif\u001b[0m \u001b[0mis_integer\u001b[0m\u001b[0;34m(\u001b[0m\u001b[0mindexer\u001b[0m\u001b[0;34m)\u001b[0m\u001b[0;34m:\u001b[0m\u001b[0;34m\u001b[0m\u001b[0;34m\u001b[0m\u001b[0m\n\u001b[1;32m   3895\u001b[0m                 \u001b[0mindexer\u001b[0m \u001b[0;34m=\u001b[0m \u001b[0;34m[\u001b[0m\u001b[0mindexer\u001b[0m\u001b[0;34m]\u001b[0m\u001b[0;34m\u001b[0m\u001b[0;34m\u001b[0m\u001b[0m\n",
            "\u001b[0;32m/usr/local/lib/python3.10/dist-packages/pandas/core/indexes/base.py\u001b[0m in \u001b[0;36mget_loc\u001b[0;34m(self, key)\u001b[0m\n\u001b[1;32m   3796\u001b[0m             ):\n\u001b[1;32m   3797\u001b[0m                 \u001b[0;32mraise\u001b[0m \u001b[0mInvalidIndexError\u001b[0m\u001b[0;34m(\u001b[0m\u001b[0mkey\u001b[0m\u001b[0;34m)\u001b[0m\u001b[0;34m\u001b[0m\u001b[0;34m\u001b[0m\u001b[0m\n\u001b[0;32m-> 3798\u001b[0;31m             \u001b[0;32mraise\u001b[0m \u001b[0mKeyError\u001b[0m\u001b[0;34m(\u001b[0m\u001b[0mkey\u001b[0m\u001b[0;34m)\u001b[0m \u001b[0;32mfrom\u001b[0m \u001b[0merr\u001b[0m\u001b[0;34m\u001b[0m\u001b[0;34m\u001b[0m\u001b[0m\n\u001b[0m\u001b[1;32m   3799\u001b[0m         \u001b[0;32mexcept\u001b[0m \u001b[0mTypeError\u001b[0m\u001b[0;34m:\u001b[0m\u001b[0;34m\u001b[0m\u001b[0;34m\u001b[0m\u001b[0m\n\u001b[1;32m   3800\u001b[0m             \u001b[0;31m# If we have a listlike key, _check_indexing_error will raise\u001b[0m\u001b[0;34m\u001b[0m\u001b[0;34m\u001b[0m\u001b[0m\n",
            "\u001b[0;31mKeyError\u001b[0m: 'Avalanche Risk'"
          ]
        }
      ]
    },
    {
      "cell_type": "code",
      "source": [
        "\n",
        "from sklearn.metrics import (\n",
        "    accuracy_score, precision_score, recall_score, f1_score,\n",
        "    roc_auc_score, roc_curve, confusion_matrix, r2_score, mean_squared_error\n",
        ")\n",
        "import matplotlib.pyplot as plt\n",
        "import seaborn as sns\n",
        "\n",
        "X = data[['Temperature (deg F)', 'Relative Humidity (%)', 'Total Snow Depth (\")']]\n",
        "y = data['Avalanche Risk']\n",
        "\n",
        "# Split the data into training and testing sets\n",
        "X_train, X_test, y_train, y_test = train_test_split(X, y, test_size=0.3, random_state=42)\n",
        "\n",
        "# Initialize the models\n",
        "models = {\n",
        "    'Random Forest': RandomForestClassifier(random_state=42),\n",
        "    'SVM': SVC(probability=True, random_state=42),\n",
        "    'Gradient Boosting': GradientBoostingClassifier(random_state=42),\n",
        "    'Logistic Regression': LogisticRegression(random_state=42)\n",
        "}\n",
        "\n",
        "# Train the models and collect their performance\n",
        "results = {}\n",
        "regression_metrics = {}\n",
        "\n",
        "for name, model in models.items():\n",
        "    model.fit(X_train, y_train)\n",
        "    y_pred = model.predict(X_test)\n",
        "    y_prob = model.predict_proba(X_test)[:, 1]\n",
        "\n",
        "    results[name] = {\n",
        "        'Accuracy': accuracy_score(y_test, y_pred),\n",
        "        'Precision': precision_score(y_test, y_pred),\n",
        "        'Recall': recall_score(y_test, y_pred),\n",
        "        'F1 Score': f1_score(y_test, y_pred),\n",
        "        'ROC AUC': roc_auc_score(y_test, y_prob)\n",
        "    }\n",
        "\n",
        "    # Calculate regression metrics based on predicted probabilities\n",
        "    regression_metrics[name] = {\n",
        "        'R² Score': r2_score(y_test, y_prob),\n",
        "        'MSE': mean_squared_error(y_test, y_prob)\n",
        "    }\n",
        "\n",
        "# Display the comparative performance results for classification\n",
        "results_df = pd.DataFrame(results).T\n",
        "print(results_df)\n",
        "\n",
        "# Display the regression metrics\n",
        "regression_metrics_df = pd.DataFrame(regression_metrics).T\n",
        "print(regression_metrics_df)\n",
        "\n",
        "# Plot the regression metrics\n",
        "fig, axes = plt.subplots(1, 2, figsize=(14, 6))\n",
        "\n",
        "# Bar chart for R² Score\n",
        "regression_metrics_df['R² Score'].plot(kind='bar', ax=axes[0], color='skyblue')\n",
        "axes[0].set_title('R² Score Comparison')\n",
        "axes[0].set_ylabel('R² Score')\n",
        "axes[0].set_ylim([0, 1])\n",
        "\n",
        "# Bar chart for MSE\n",
        "regression_metrics_df['MSE'].plot(kind='bar', ax=axes[1], color='salmon')\n",
        "axes[1].set_title('MSE Comparison')\n",
        "axes[1].set_ylabel('Mean Squared Error')\n",
        "\n",
        "plt.tight_layout()\n",
        "plt.show()\n"
      ],
      "metadata": {
        "colab": {
          "base_uri": "https://localhost:8080/",
          "height": 554
        },
        "id": "FkQHnlIhC35Q",
        "outputId": "08a0a2f3-eb9a-4ed1-ed08-c8976ed1a7ee"
      },
      "execution_count": 21,
      "outputs": [
        {
          "output_type": "stream",
          "name": "stdout",
          "text": [
            "                     Accuracy  Precision    Recall  F1 Score   ROC AUC\n",
            "Random Forest        1.000000   1.000000  1.000000  1.000000  1.000000\n",
            "SVM                  0.960474   0.933054  0.867704  0.899194  0.994553\n",
            "Gradient Boosting    1.000000   1.000000  1.000000  1.000000  1.000000\n",
            "Logistic Regression  0.859289   0.662551  0.626459  0.644000  0.916651\n",
            "                     R² Score           MSE\n",
            "Random Forest        0.996484  5.691700e-04\n",
            "SVM                  0.852395  2.389544e-02\n",
            "Gradient Boosting    1.000000  2.937053e-10\n",
            "Logistic Regression  0.426379  9.286190e-02\n"
          ]
        },
        {
          "output_type": "display_data",
          "data": {
            "text/plain": [
              "<Figure size 1400x600 with 2 Axes>"
            ],
            "image/png": "[encoded data removed]"
          },
          "metadata": {}
        }
      ]
    }
  ]
}